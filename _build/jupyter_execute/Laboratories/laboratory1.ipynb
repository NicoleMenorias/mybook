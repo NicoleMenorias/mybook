{
 "cells": [
  {
   "cell_type": "markdown",
   "id": "930bae8c",
   "metadata": {},
   "source": [
    "# **Laboratory Task 1**"
   ]
  },
  {
   "cell_type": "markdown",
   "id": "96efd188",
   "metadata": {},
   "source": [
    "## **Example Scenario:**\n",
    "\n",
    "Dr. Jake is a medical doctor and the CEO of Astro JR, a giant pharmaceutical company in the Philippines. To support the production and use of AstroJR's COVID19 vaccine, this company has implemented a number of business intelligence and data analytics tools. Your task is to provide the appropriate and necessary analytical questions Dr. Jake must ask his analytics team in order to provide better deployment and production of COVID19 vaccines around the world using descriptive, predictive, and prescriptive analytics.\n",
    "\n",
    "* **Descriptive:** How many infected cases since last week?\n",
    "* **Diagnostic:** What factor affects the demand of AstroJR's COVID19 vaccine?\n",
    "* **Predictive:** How many deaths next week?\n",
    "* **Prescriptive:** If the number of cases will increase next week, how many hospital staff should be here to adequately treat the influx of patients?"
   ]
  },
  {
   "cell_type": "markdown",
   "id": "fab98ace",
   "metadata": {},
   "source": [
    "**Instruction:** From the example scenario above, create additional two inquiries for each type of data analytics."
   ]
  },
  {
   "cell_type": "markdown",
   "id": "83abe6ea",
   "metadata": {},
   "source": [
    "#### **Descriptive Analytics (What happened?)**\n",
    "\n",
    "* How many doses of AstroJR’s vaccine were distributed to each region in the Philippines last month?\n",
    "\n",
    "* What percentage of vaccinated individuals experienced mild to severe side effects in the past six months?\n",
    "\n",
    "#### **Diagnostic Analytics (Why did it happen?)**\n",
    "\n",
    "* Why did vaccine uptake decline in certain regions compared to others during the last quarter?\n",
    "\n",
    "* What supply chain issues contributed to delayed vaccine deliveries in rural hospitals?\n",
    "\n",
    "#### **Predictive Analytics (What is likely to happen?)**\n",
    "\n",
    "* Based on current vaccination rates, how many people are expected to be fully vaccinated in the Philippines by the end of next month?\n",
    "\n",
    "* If a new COVID-19 variant emerges, what is the projected increase in vaccine demand over the next quarter?\n",
    "\n",
    "#### **Prescriptive Analytics (What should be done?)**\n",
    "\n",
    "* If vaccine hesitancy continues, what communication strategies should be implemented to increase vaccination rates by 15% in the next two months?\n",
    "\n",
    "* Given projected shortages in raw materials, what alternative suppliers should AstroJR contract with to sustain vaccine production without disruption?"
   ]
  }
 ],
 "metadata": {
  "language_info": {
   "codemirror_mode": {
    "name": "ipython",
    "version": 3
   },
   "file_extension": ".py",
   "mimetype": "text/x-python",
   "name": "python",
   "nbconvert_exporter": "python",
   "pygments_lexer": "ipython3",
   "version": "3.12.4"
  }
 },
 "nbformat": 4,
 "nbformat_minor": 5
}