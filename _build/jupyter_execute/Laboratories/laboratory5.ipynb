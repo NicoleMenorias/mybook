{
 "cells": [
  {
   "cell_type": "markdown",
   "id": "a4a94794",
   "metadata": {},
   "source": [
    "# **Laboratory Task 5**"
   ]
  },
  {
   "cell_type": "markdown",
   "id": "db8c4c87-7d4b-46ed-bff5-fdc594eb7253",
   "metadata": {},
   "source": [
    "\n",
    "1. Perform Standard Imports\n",
    "\n",
    "\n",
    "2. Create a function called set_seed() that accepts seed: int as a parameter, this function must return nothing but just set the seed to a certain value.\n",
    "\n",
    "\n",
    "3. Create a NumPy array called \"arr\" that contains 6 random integers between 0 (inclusive) and 5 (exclusive), call the set_seed() function and use 42 as the seed parameter.\n",
    "\n",
    "\n",
    "4. Create a tensor \"x\" from the array above\n",
    "\n",
    "\n",
    "5. Change the dtype of x from int32 to int64\n",
    "\n",
    "\n",
    "6. Reshape x into a 3x2 tensor\n",
    "There are several ways to do this.\n",
    "\n",
    "\n",
    "7. Return the right-hand column of tensor x\n",
    "\n",
    "\n",
    "8. Without changing x, return a tensor of square values of x\n",
    "There are several ways to do this.\n",
    "\n",
    "\n",
    "9. Create a tensor y with the same number of elements as x, that can be matrix-multiplied with x\n",
    "Use PyTorch directly (not NumPy) to create a tensor of random integers between 0 (inclusive) and 5 (exclusive). Use 42 as seed.\n",
    "Think about what shape it should have to permit matrix multiplication.\n",
    "\n",
    "\n",
    "10. Find the matrix product of x and y."
   ]
  },
  {
   "cell_type": "code",
   "execution_count": 1,
   "id": "ea9ed8b5-9a5c-4c08-9ef2-eb232135e427",
   "metadata": {},
   "outputs": [],
   "source": [
    "# Import\n",
    "import torch\n",
    "import numpy as np\n",
    "import sys"
   ]
  },
  {
   "cell_type": "code",
   "execution_count": 2,
   "id": "f690fefd-fcc7-436c-92f3-798e594a2857",
   "metadata": {},
   "outputs": [],
   "source": [
    "# Setting random seed\n",
    "def set_seed(seed:int):\n",
    "    np.random.seed(seed)"
   ]
  },
  {
   "cell_type": "code",
   "execution_count": 3,
   "id": "019ba09f-f2af-413d-940f-612125584e12",
   "metadata": {},
   "outputs": [
    {
     "name": "stdout",
     "output_type": "stream",
     "text": [
      "[3 4 2 4 4 1]\n"
     ]
    }
   ],
   "source": [
    "# create array\n",
    "set_seed(42)\n",
    "\n",
    "arr = np.random.randint(0,5,(6))\n",
    "\n",
    "print(arr)"
   ]
  },
  {
   "cell_type": "code",
   "execution_count": 4,
   "id": "43429a32-5ceb-418c-990a-303e315638a4",
   "metadata": {},
   "outputs": [
    {
     "name": "stdout",
     "output_type": "stream",
     "text": [
      "tensor([3, 4, 2, 4, 4, 1], dtype=torch.int32)\n"
     ]
    }
   ],
   "source": [
    "# convert from numpy to tensor\n",
    "x = torch.from_numpy(arr)\n",
    "print(x)"
   ]
  },
  {
   "cell_type": "code",
   "execution_count": 5,
   "id": "3547a846-fbb1-4183-8f7f-64ee2dbf4fa9",
   "metadata": {},
   "outputs": [
    {
     "name": "stdout",
     "output_type": "stream",
     "text": [
      "New: torch.LongTensor\n"
     ]
    }
   ],
   "source": [
    "# convert data type\n",
    "x = x.type(torch.int64)\n",
    "\n",
    "print('New:', x.type())"
   ]
  },
  {
   "cell_type": "code",
   "execution_count": 6,
   "id": "a0312cdf-f00a-4d99-9238-1239e4feb0a3",
   "metadata": {},
   "outputs": [
    {
     "name": "stdout",
     "output_type": "stream",
     "text": [
      "tensor([[0, 1],\n",
      "        [2, 3],\n",
      "        [4, 5]])\n"
     ]
    }
   ],
   "source": [
    "# 3x2 tensor\n",
    "x = torch.arange(6).reshape(3,2)\n",
    "print(x)"
   ]
  },
  {
   "cell_type": "code",
   "execution_count": 7,
   "id": "6d0f52c4-4bd0-4eeb-b969-3061d45c250f",
   "metadata": {},
   "outputs": [
    {
     "data": {
      "text/plain": [
       "tensor([1, 3, 5])"
      ]
     },
     "execution_count": 7,
     "metadata": {},
     "output_type": "execute_result"
    }
   ],
   "source": [
    "# right-hand column\n",
    "x[:,1]"
   ]
  },
  {
   "cell_type": "code",
   "execution_count": 8,
   "id": "d1228091-d3ee-4efd-8a69-9cdca4693d92",
   "metadata": {},
   "outputs": [
    {
     "data": {
      "text/plain": [
       "tensor([[ 0,  1],\n",
       "        [ 4,  9],\n",
       "        [16, 25]])"
      ]
     },
     "execution_count": 8,
     "metadata": {},
     "output_type": "execute_result"
    }
   ],
   "source": [
    "# squared of x\n",
    "x.pow(2)"
   ]
  },
  {
   "cell_type": "code",
   "execution_count": 9,
   "id": "af17d224-48f0-44cd-add6-555ac9917056",
   "metadata": {},
   "outputs": [
    {
     "name": "stdout",
     "output_type": "stream",
     "text": [
      "tensor([[2, 4, 0],\n",
      "        [4, 2, 4]])\n"
     ]
    }
   ],
   "source": [
    "# create tensor object y same as x\n",
    "y = torch.randint(0, 5, (2, 3))\n",
    "print(y)"
   ]
  },
  {
   "cell_type": "code",
   "execution_count": 10,
   "id": "e5c3f632-642f-4979-bbb0-ab5eac16ebef",
   "metadata": {},
   "outputs": [
    {
     "data": {
      "text/plain": [
       "tensor([[ 4,  2,  4],\n",
       "        [16, 14, 12],\n",
       "        [28, 26, 20]])"
      ]
     },
     "execution_count": 10,
     "metadata": {},
     "output_type": "execute_result"
    }
   ],
   "source": [
    "# x multiplied by y\n",
    "x.matmul(y)"
   ]
  }
 ],
 "metadata": {
  "kernelspec": {
   "display_name": "tf_env",
   "language": "python",
   "name": "python3"
  },
  "language_info": {
   "codemirror_mode": {
    "name": "ipython",
    "version": 3
   },
   "file_extension": ".py",
   "mimetype": "text/x-python",
   "name": "python",
   "nbconvert_exporter": "python",
   "pygments_lexer": "ipython3",
   "version": "3.12.4"
  }
 },
 "nbformat": 4,
 "nbformat_minor": 5
}