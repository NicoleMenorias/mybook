{
 "cells": [
  {
   "cell_type": "markdown",
   "id": "24baa06a",
   "metadata": {},
   "source": [
    "# **Laboratory Task 3**"
   ]
  },
  {
   "cell_type": "markdown",
   "id": "4c7fae12",
   "metadata": {},
   "source": [
    "Forward and Backward Propagation (ReLU)\n",
    "\n",
    "Instruction: Perform a forward and backward propagation in python using the inputs from Laboratory Task 2\n",
    "\n",
    "`x = np.array([1, 0, 1])\n",
    "y = np.array([1])`\n",
    "\n",
    "use relu as the activation function.\n",
    "\n",
    "`# learning rate\n",
    "lr = 0.001`"
   ]
  },
  {
   "cell_type": "code",
   "execution_count": 1,
   "id": "494062da",
   "metadata": {},
   "outputs": [],
   "source": [
    "import numpy as np\n",
    "\n",
    "# Inputs and expected output\n",
    "x = np.array([1, 0, 1])\n",
    "y = np.array([1])"
   ]
  },
  {
   "cell_type": "code",
   "execution_count": 2,
   "id": "989d4d8a",
   "metadata": {},
   "outputs": [],
   "source": [
    "# Learning rate\n",
    "lr = 0.001"
   ]
  },
  {
   "cell_type": "code",
   "execution_count": 3,
   "id": "045dd89b",
   "metadata": {},
   "outputs": [],
   "source": [
    "# Initialize weights and bias\n",
    "np.random.seed(42)\n",
    "W = np.random.randn(3, 1)   # 3 inputs → 1 output\n",
    "b = np.random.randn(1)"
   ]
  },
  {
   "cell_type": "code",
   "execution_count": 4,
   "id": "d258b878",
   "metadata": {},
   "outputs": [
    {
     "name": "stdout",
     "output_type": "stream",
     "text": [
      "Forward Propagation\n",
      "Input: [1 0 1]\n",
      "Weights: [ 0.49671415 -0.1382643   0.64768854]\n",
      "Bias: [1.52302986]\n",
      "Z: [2.66743255]\n",
      "Activated Output (a): [2.66743255]\n",
      "Loss: 2.780331300528872\n"
     ]
    }
   ],
   "source": [
    "# ReLU activation\n",
    "def relu(z):\n",
    "    return np.maximum(0, z)\n",
    "\n",
    "def relu_derivative(z):\n",
    "    return (z > 0).astype(float)\n",
    "\n",
    "# Forward propagation\n",
    "z = np.dot(x, W) + b\n",
    "a = relu(z)\n",
    "\n",
    "# Loss (Mean Squared Error)\n",
    "loss = np.square(y - a).mean()\n",
    "\n",
    "print(\"Forward Propagation\")\n",
    "print(\"Input:\", x)\n",
    "print(\"Weights:\", W.flatten())\n",
    "print(\"Bias:\", b)\n",
    "print(\"Z:\", z)\n",
    "print(\"Activated Output (a):\", a)\n",
    "print(\"Loss:\", loss)"
   ]
  },
  {
   "cell_type": "code",
   "execution_count": 5,
   "id": "03199e3d",
   "metadata": {},
   "outputs": [
    {
     "name": "stdout",
     "output_type": "stream",
     "text": [
      "\n",
      "Backward Propagation\n",
      "dW: [1.66743255 0.         1.66743255]\n",
      "db: [1.66743255]\n",
      "Updated Weights: [ 0.49504672 -0.1382643   0.64602111]\n",
      "Updated Bias: [1.52136242]\n"
     ]
    }
   ],
   "source": [
    "# Backward propagation\n",
    "dz = (a - y) * relu_derivative(z)  # derivative of loss w.r.t z\n",
    "dW = x.reshape(-1, 1) * dz\n",
    "db = dz\n",
    "\n",
    "# Update parameters\n",
    "W -= lr * dW\n",
    "b -= lr * db\n",
    "\n",
    "print(\"\\nBackward Propagation\")\n",
    "print(\"dW:\", dW.flatten())\n",
    "print(\"db:\", db)\n",
    "print(\"Updated Weights:\", W.flatten())\n",
    "print(\"Updated Bias:\", b)"
   ]
  },
  {
   "cell_type": "markdown",
   "id": "3b47e9ed",
   "metadata": {},
   "source": [
    "**Observations:**\n",
    "\n",
    "* The predicted output (2.67) is higher than the target (1), showing error exists.\n",
    "* Gradient values are non-zero only for active inputs (1st and 3rd features).\n",
    "* Both weights and bias are slightly reduced, nudging the output closer to the target.\n",
    "* Learning rate (0.001) leads to very small adjustments → training is stable but gradual.\n",
    "* Loss remains relatively high, indicating more updates are needed for convergence."
   ]
  }
 ],
 "metadata": {
  "kernelspec": {
   "display_name": "cardio",
   "language": "python",
   "name": "python3"
  },
  "language_info": {
   "codemirror_mode": {
    "name": "ipython",
    "version": 3
   },
   "file_extension": ".py",
   "mimetype": "text/x-python",
   "name": "python",
   "nbconvert_exporter": "python",
   "pygments_lexer": "ipython3",
   "version": "3.12.4"
  }
 },
 "nbformat": 4,
 "nbformat_minor": 5
}