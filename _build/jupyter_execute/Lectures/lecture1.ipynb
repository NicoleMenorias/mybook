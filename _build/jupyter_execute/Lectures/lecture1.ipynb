{
 "cells": [
  {
   "cell_type": "markdown",
   "id": "294d7577",
   "metadata": {},
   "source": [
    "# **Lecture Task 1:**\n",
    "\n",
    "Instruction: Create a reaction paper (1 page) about the YouTube video titled \"Machine Learning: Living in the Age of AI | A WIRED Film\", submit this in pdf format.\n",
    "\n",
    "Use these as guide question for your paper.\n",
    "\n",
    "- What are some of the most significant advancements in AI that the video highlights as having a positive impact on society?\n",
    "- How does the video envision the future of AI, and what challenges and opportunities lie ahead?\n",
    "- How can we strike a balance between harnessing the benefits of AI and addressing its potential drawbacks?"
   ]
  },
  {
   "cell_type": "markdown",
   "id": "5177ffa5",
   "metadata": {},
   "source": [
    "## **\"Machine Learning: Living in the Age of AI | A WIRED Film\"**"
   ]
  },
  {
   "cell_type": "markdown",
   "id": "fbad2cb9",
   "metadata": {},
   "source": [
    "<p align=\"justify\">\n",
    "&emsp;What if the machines we have created begin to understand us better than we understand ourselves? This question came to my mind as I watched the film. The documentary reminded me that artificial intelligence is no longer something we only imagine in the future. It is already here, shaping our daily lives in powerful ways. I am amazed and curious at the same time on how far AI could go in helping us and shaping our future.\n",
    "</p>\n",
    "\n",
    "<p align=\"justify\">\n",
    "&emsp;What stood out most to me were the good things AI has already given to society. The film showed how machine learning is becoming easier to use, not only for big companies but also for ordinary people. This wider access brings many new ideas and opportunities. I was especially touched by the part on healthcare. AI can find diseases like pancreatic cancer earlier by seeing patterns that human eyes often miss, which gives real hope for saving lives. Another strong example was AI-powered drones in farming. By helping farmers grow food more efficiently, AI supports one of our most basic needs. I also realized how much AI quietly affects my own life. The suggestions on my phone, the way websites load smoothly, and even tools that help people with disabilities all showed me that AI is already around me every day, often in ways I do not notice. The film showed how AI offers independence to people who have lost some of their abilities, such as the elderly or those with disabilities. For example, blind people can now use AI-powered devices that read text or describe their surroundings, giving them back capabilities that make daily life easier and more fulfilling. The idea of self-driving cars also stood out to me, since they could allow elderly people who can no longer drive safely to move around on their own, giving them freedom and confidence to live more independently. This part truly showed me how AI, when used well, can bring dignity and independence to people who need it most.\n",
    "</p>\n",
    "\n",
    "<p align=\"justify\">\n",
    "&emsp;The film also showed a future for AI that feels both promising and troubling. On one hand, AI can help humans complete tasks faster and with greater accuracy. It can even create new industries and job opportunities that we have not yet imagined. It suggests that people could spend less time on repetitive work and more time on creative and meaningful tasks. But at the same time, the very reason AI is so powerful raises serious concerns. In order to be more productive, we may need fewer people, which means many workers could lose their jobs to machines that can “understand” and perform their tasks more efficiently. Alongside this, the rise of deepfakes shows another side of AI’s intelligence that can be dangerous. While it is impressive that AI can mimic voices and faces so convincingly, it also makes it harder to know what is real and what is fake, putting truth and trust at risk. These issues made me realize that the same qualities that make AI so useful also make it a challenge. The speed of AI’s growth feels like both a chance to improve life and a challenge to keep up with change.\n",
    "</p>\n",
    "\n",
    "<p align=\"justify\">\n",
    "&emsp;Now, how can we balance the good and the bad? The film suggested that we need rules, openness, and responsibility. Governments should create clear laws, developers should be honest about how AI works, and people everywhere should learn about its strengths and weaknesses. If more people understand what AI can and cannot do, then we can make smarter choices and reduce risks. For me, the real point is that AI is not simply good or bad. It is neutral, and its effect depends on how we choose to use it.\n",
    "</p>\n",
    "\n",
    "<p align=\"justify\">\n",
    "&emsp;In the end, all these thoughts bring me back to my first question: what if the machines we have created begin to understand us better than we understand ourselves? I believe the answer depends on us. At the end of the day, it's ourselves that we must be most careful of, not the technology itself, because our intentions will shape its impact. If we guide AI with wisdom and care, its growing knowledge of people can help us live better lives. Living in the age of AI does not mean giving up control to machines. It means making sure our choices and values shape the future, so that the intelligence we build is always used for the good of everyone.\n",
    "</p>\n"
   ]
  }
 ],
 "metadata": {
  "kernelspec": {
   "display_name": "tf_env",
   "language": "python",
   "name": "python3"
  },
  "language_info": {
   "codemirror_mode": {
    "name": "ipython",
    "version": 3
   },
   "file_extension": ".py",
   "mimetype": "text/x-python",
   "name": "python",
   "nbconvert_exporter": "python",
   "pygments_lexer": "ipython3",
   "version": "3.12.4"
  }
 },
 "nbformat": 4,
 "nbformat_minor": 5
}